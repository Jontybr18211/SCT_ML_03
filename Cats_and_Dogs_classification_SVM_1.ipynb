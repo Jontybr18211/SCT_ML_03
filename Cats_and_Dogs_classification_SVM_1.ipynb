{
  "nbformat": 4,
  "nbformat_minor": 0,
  "metadata": {
    "colab": {
      "provenance": []
    },
    "kernelspec": {
      "name": "python3",
      "display_name": "Python 3"
    },
    "language_info": {
      "name": "python"
    }
  },
  "cells": [
    {
      "cell_type": "code",
      "source": [
        "!pip install --quiet kaggle scikit-image"
      ],
      "metadata": {
        "id": "9PfH7Koa2xTm"
      },
      "execution_count": null,
      "outputs": []
    },
    {
      "cell_type": "code",
      "source": [
        "from google.colab import files\n",
        "# Upload your kaggle.json (get this from Kaggle \u2192 \u201cMy Account\u201d \u2192 \u201cAPI\u201d \u2192 \u201cCreate New Token\u201d)\n",
        "files.upload()"
      ],
      "metadata": {
        "colab": {
          "base_uri": "https://localhost:8080/",
          "height": 90
        },
        "id": "xDJdIA7d22bF",
        "outputId": "79428e82-af53-4336-9f69-df608087923d"
      },
      "execution_count": null,
      "outputs": [
        {
          "output_type": "display_data",
          "data": {
            "text/plain": [
              "<IPython.core.display.HTML object>"
            ],
            "text/html": [
              "\n",
              "     <input type=\"file\" id=\"files-42f74f7a-e2d2-4367-827c-49391dbe5408\" name=\"files[]\" multiple disabled\n",
              "        style=\"border:none\" />\n",
              "     <output id=\"result-42f74f7a-e2d2-4367-827c-49391dbe5408\">\n",
              "      Upload widget is only available when the cell has been executed in the\n",
              "      current browser session. Please rerun this cell to enable.\n",
              "      </output>\n",
              "      <script>// Copyright 2017 Google LLC\n",
              "//\n",
              "// Licensed under the Apache License, Version 2.0 (the \"License\");\n",
              "// you may not use this file except in compliance with the License.\n",
              "// You may obtain a copy of the License at\n",
              "//\n",
              "//      http://www.apache.org/licenses/LICENSE-2.0\n",
              "//\n",
              "// Unless required by applicable law or agreed to in writing, software\n",
              "// distributed under the License is distributed on an \"AS IS\" BASIS,\n",
              "// WITHOUT WARRANTIES OR CONDITIONS OF ANY KIND, either express or implied.\n",
              "// See the License for the specific language governing permissions and\n",
              "// limitations under the License.\n",
              "\n",
              "/**\n",
              " * @fileoverview Helpers for google.colab Python module.\n",
              " */\n",
              "(function(scope) {\n",
              "function span(text, styleAttributes = {}) {\n",
              "  const element = document.createElement('span');\n",
              "  element.textContent = text;\n",
              "  for (const key of Object.keys(styleAttributes)) {\n",
              "    element.style[key] = styleAttributes[key];\n",
              "  }\n",
              "  return element;\n",
              "}\n",
              "\n",
              "// Max number of bytes which will be uploaded at a time.\n",
              "const MAX_PAYLOAD_SIZE = 100 * 1024;\n",
              "\n",
              "function _uploadFiles(inputId, outputId) {\n",
              "  const steps = uploadFilesStep(inputId, outputId);\n",
              "  const outputElement = document.getElementById(outputId);\n",
              "  // Cache steps on the outputElement to make it available for the next call\n",
              "  // to uploadFilesContinue from Python.\n",
              "  outputElement.steps = steps;\n",
              "\n",
              "  return _uploadFilesContinue(outputId);\n",
              "}\n",
              "\n",
              "// This is roughly an async generator (not supported in the browser yet),\n",
              "// where there are multiple asynchronous steps and the Python side is going\n",
              "// to poll for completion of each step.\n",
              "// This uses a Promise to block the python side on completion of each step,\n",
              "// then passes the result of the previous step as the input to the next step.\n",
              "function _uploadFilesContinue(outputId) {\n",
              "  const outputElement = document.getElementById(outputId);\n",
              "  const steps = outputElement.steps;\n",
              "\n",
              "  const next = steps.next(outputElement.lastPromiseValue);\n",
              "  return Promise.resolve(next.value.promise).then((value) => {\n",
              "    // Cache the last promise value to make it available to the next\n",
              "    // step of the generator.\n",
              "    outputElement.lastPromiseValue = value;\n",
              "    return next.value.response;\n",
              "  });\n",
              "}\n",
              "\n",
              "/**\n",
              " * Generator function which is called between each async step of the upload\n",
              " * process.\n",
              " * @param {string} inputId Element ID of the input file picker element.\n",
              " * @param {string} outputId Element ID of the output display.\n",
              " * @return {!Iterable<!Object>} Iterable of next steps.\n",
              " */\n",
              "function* uploadFilesStep(inputId, outputId) {\n",
              "  const inputElement = document.getElementById(inputId);\n",
              "  inputElement.disabled = false;\n",
              "\n",
              "  const outputElement = document.getElementById(outputId);\n",
              "  outputElement.innerHTML = '';\n",
              "\n",
              "  const pickedPromise = new Promise((resolve) => {\n",
              "    inputElement.addEventListener('change', (e) => {\n",
              "      resolve(e.target.files);\n",
              "    });\n",
              "  });\n",
              "\n",
              "  const cancel = document.createElement('button');\n",
              "  inputElement.parentElement.appendChild(cancel);\n",
              "  cancel.textContent = 'Cancel upload';\n",
              "  const cancelPromise = new Promise((resolve) => {\n",
              "    cancel.onclick = () => {\n",
              "      resolve(null);\n",
              "    };\n",
              "  });\n",
              "\n",
              "  // Wait for the user to pick the files.\n",
              "  const files = yield {\n",
              "    promise: Promise.race([pickedPromise, cancelPromise]),\n",
              "    response: {\n",
              "      action: 'starting',\n",
              "    }\n",
              "  };\n",
              "\n",
              "  cancel.remove();\n",
              "\n",
              "  // Disable the input element since further picks are not allowed.\n",
              "  inputElement.disabled = true;\n",
              "\n",
              "  if (!files) {\n",
              "    return {\n",
              "      response: {\n",
              "        action: 'complete',\n",
              "      }\n",
              "    };\n",
              "  }\n",
              "\n",
              "  for (const file of files) {\n",
              "    const li = document.createElement('li');\n",
              "    li.append(span(file.name, {fontWeight: 'bold'}));\n",
              "    li.append(span(\n",
              "        `(${file.type || 'n/a'}) - ${file.size} bytes, ` +\n",
              "        `last modified: ${\n",
              "            file.lastModifiedDate ? file.lastModifiedDate.toLocaleDateString() :\n",
              "                                    'n/a'} - `));\n",
              "    const percent = span('0% done');\n",
              "    li.appendChild(percent);\n",
              "\n",
              "    outputElement.appendChild(li);\n",
              "\n",
              "    const fileDataPromise = new Promise((resolve) => {\n",
              "      const reader = new FileReader();\n",
              "      reader.onload = (e) => {\n",
              "        resolve(e.target.result);\n",
              "      };\n",
              "      reader.readAsArrayBuffer(file);\n",
              "    });\n",
              "    // Wait for the data to be ready.\n",
              "    let fileData = yield {\n",
              "      promise: fileDataPromise,\n",
              "      response: {\n",
              "        action: 'continue',\n",
              "      }\n",
              "    };\n",
              "\n",
              "    // Use a chunked sending to avoid message size limits. See b/62115660.\n",
              "    let position = 0;\n",
              "    do {\n",
              "      const length = Math.min(fileData.byteLength - position, MAX_PAYLOAD_SIZE);\n",
              "      const chunk = new Uint8Array(fileData, position, length);\n",
              "      position += length;\n",
              "\n",
              "      const base64 = btoa(String.fromCharCode.apply(null, chunk));\n",
              "      yield {\n",
              "        response: {\n",
              "          action: 'append',\n",
              "          file: file.name,\n",
              "          data: base64,\n",
              "        },\n",
              "      };\n",
              "\n",
              "      let percentDone = fileData.byteLength === 0 ?\n",
              "          100 :\n",
              "          Math.round((position / fileData.byteLength) * 100);\n",
              "      percent.textContent = `${percentDone}% done`;\n",
              "\n",
              "    } while (position < fileData.byteLength);\n",
              "  }\n",
              "\n",
              "  // All done.\n",
              "  yield {\n",
              "    response: {\n",
              "      action: 'complete',\n",
              "    }\n",
              "  };\n",
              "}\n",
              "\n",
              "scope.google = scope.google || {};\n",
              "scope.google.colab = scope.google.colab || {};\n",
              "scope.google.colab._files = {\n",
              "  _uploadFiles,\n",
              "  _uploadFilesContinue,\n",
              "};\n",
              "})(self);\n",
              "</script> "
            ]
          },
          "metadata": {}
        },
        {
          "output_type": "stream",
          "name": "stdout",
          "text": [
            "Saving kaggle.json to kaggle (1).json\n"
          ]
        },
        {
          "output_type": "execute_result",
          "data": {
            "text/plain": [
              "{'kaggle (1).json': b'{\"username\":\"soumadityadeb\",\"key\":\"2cc778f3e990d4f299998b8e365aabce\"}'}"
            ]
          },
          "metadata": {},
          "execution_count": 2
        }
      ]
    },
    {
      "cell_type": "code",
      "source": [
        "# Set permissions and move it into place\n",
        "!mkdir -p ~/.kaggle\n",
        "!cp kaggle.json ~/.kaggle/\n",
        "!chmod 600 ~/.kaggle/kaggle.json"
      ],
      "metadata": {
        "id": "Xa5-GaGP3Tbn"
      },
      "execution_count": null,
      "outputs": []
    },
    {
      "cell_type": "code",
      "source": [
        "# Download the \u201csalader/dogs-vs-cats\u201d dataset and unzip\n",
        "!kaggle datasets download -d salader/dogs-vs-cats\n",
        "!unzip -q dogs-vs-cats.zip -d ./data"
      ],
      "metadata": {
        "colab": {
          "base_uri": "https://localhost:8080/"
        },
        "id": "XxR_KwLM3Zzd",
        "outputId": "369b48b7-1688-4823-b4c5-07dffe2db4e1"
      },
      "execution_count": null,
      "outputs": [
        {
          "output_type": "stream",
          "name": "stdout",
          "text": [
            "Dataset URL: https://www.kaggle.com/datasets/salader/dogs-vs-cats\n",
            "License(s): unknown\n",
            "dogs-vs-cats.zip: Skipping, found more recently modified local copy (use --force to force download)\n",
            "replace ./data/dogs_vs_cats/test/cats/cat.10.jpg? [y]es, [n]o, [A]ll, [N]one, [r]ename: "
          ]
        }
      ]
    },
    {
      "cell_type": "code",
      "execution_count": null,
      "metadata": {
        "id": "mXTSJhTHkB5_"
      },
      "outputs": [],
      "source": [
        "# Point DATA_DIR at the train folder\n",
        "DATA_DIR = './data/train'   # contains subfolders 'cats/' and 'dogs/'"
      ]
    },
    {
      "cell_type": "code",
      "source": [
        "# 1. Imports\n",
        "\n",
        "import os, io, cv2, numpy as np, matplotlib.pyplot as plt\n",
        "from sklearn.model_selection   import train_test_split, GridSearchCV\n",
        "from sklearn.preprocessing     import StandardScaler\n",
        "from sklearn.svm               import LinearSVC\n",
        "from sklearn.calibration       import CalibratedClassifierCV\n",
        "from sklearn.metrics           import classification_report, confusion_matrix, accuracy_score\n",
        "from skimage.feature           import hog\n",
        "import joblib\n",
        "\n",
        "import ipywidgets as widgets\n",
        "from IPython.display import display\n",
        "from PIL import Image\n",
        "from scipy.special import expit"
      ],
      "metadata": {
        "id": "g13arOkGnlGt"
      },
      "execution_count": null,
      "outputs": []
    },
    {
      "cell_type": "code",
      "source": [
        "#\u00a02: Load & Preprocess Functions\n",
        "\n",
        "CATEGORIES = ['cats','dogs']\n",
        "IMG_SIZE   = 64\n",
        "\n",
        "def load_data(data_dir):\n",
        "    images, labels = [], []\n",
        "    for idx, lbl in enumerate(CATEGORIES):\n",
        "        folder = os.path.join(data_dir, lbl)\n",
        "        for fname in os.listdir(folder):\n",
        "            path = os.path.join(folder, fname)\n",
        "            img = cv2.imread(path)\n",
        "            if img is None: continue\n",
        "            img = cv2.resize(img, (IMG_SIZE,IMG_SIZE))\n",
        "            gray = cv2.cvtColor(img, cv2.COLOR_BGR2GRAY)\n",
        "            images.append(gray.flatten())\n",
        "            labels.append(idx)\n",
        "    return np.array(images), np.array(labels)\n",
        "\n",
        "def compute_hog(flat_images):\n",
        "    feats = []\n",
        "    for flat in flat_images:\n",
        "        img = flat.reshape(IMG_SIZE,IMG_SIZE)\n",
        "        h = hog(img,\n",
        "                pixels_per_cell=(8,8),\n",
        "                cells_per_block=(2,2),\n",
        "                feature_vector=True)\n",
        "        feats.append(h)\n",
        "    return np.array(feats)\n"
      ],
      "metadata": {
        "id": "N6Ku2cZVnrYt"
      },
      "execution_count": null,
      "outputs": []
    },
    {
      "cell_type": "code",
      "source": [
        "#\u00a03: Load data, split, scale & check balance\n",
        "\n",
        "X, y = load_data(DATA_DIR)\n",
        "print(f\"Loaded {X.shape[0]} samples.\")\n",
        "\n",
        "X_train, X_test, y_train, y_test = train_test_split(\n",
        "    X, y, test_size=0.2, random_state=42, stratify=y)\n",
        "\n",
        "print(\"Train class counts:\", dict(zip(CATEGORIES, np.bincount(y_train))))\n",
        "print(\"Test class counts: \", dict(zip(CATEGORIES, np.bincount(y_test))))\n",
        "\n",
        "# Scale raw pixels then extract HOG\n",
        "scaler = StandardScaler()\n",
        "X_train_scaled = scaler.fit_transform(X_train)\n",
        "X_test_scaled  = scaler.transform(X_test)\n",
        "\n",
        "X_train_feat = compute_hog(X_train_scaled)\n",
        "X_test_feat  = compute_hog(X_test_scaled)"
      ],
      "metadata": {
        "colab": {
          "base_uri": "https://localhost:8080/"
        },
        "id": "e1ZH_fhOnwse",
        "outputId": "da13315f-f2ae-44e9-b9b0-00a4c5e2ca61"
      },
      "execution_count": null,
      "outputs": [
        {
          "output_type": "stream",
          "name": "stdout",
          "text": [
            "Loaded 20000 samples.\n",
            "Train class counts: {'cats': np.int64(8000), 'dogs': np.int64(8000)}\n",
            "Test class counts:  {'cats': np.int64(2000), 'dogs': np.int64(2000)}\n"
          ]
        }
      ]
    },
    {
      "cell_type": "code",
      "source": [
        "#\u00a04: Hyperparameter tuning + Train & Calibrate SVM\n",
        "\n",
        "# 1) GridSearch for best C on LinearSVC\n",
        "param_grid = {'C': [0.01, 0.1, 1, 10]}\n",
        "grid = GridSearchCV(\n",
        "    LinearSVC(max_iter=5000, tol=1e-4),\n",
        "    param_grid, cv=3, n_jobs=-1\n",
        ")\n",
        "grid.fit(X_train_feat, y_train)\n",
        "print(\"Best C:\", grid.best_params_)\n",
        "\n",
        "# 2) Wrap best LinearSVC in CalibratedClassifierCV\n",
        "base_svc = grid.best_estimator_\n",
        "svm_model = CalibratedClassifierCV(base_svc, cv=3)\n",
        "svm_model.fit(X_train_feat, y_train)\n",
        "\n",
        "# 3) Save artifacts\n",
        "os.makedirs('/content/models', exist_ok=True)\n",
        "joblib.dump(svm_model, '/content/models/svm_cat_dog_calibrated.pkl')\n",
        "joblib.dump(scaler,    '/content/models/scaler.pkl')"
      ],
      "metadata": {
        "colab": {
          "base_uri": "https://localhost:8080/"
        },
        "id": "plOu4Doon0Hl",
        "outputId": "374ad6f0-6595-4a0d-a737-06fe1d7a8a41"
      },
      "execution_count": null,
      "outputs": [
        {
          "output_type": "stream",
          "name": "stdout",
          "text": [
            "Best C: {'C': 0.01}\n"
          ]
        },
        {
          "output_type": "execute_result",
          "data": {
            "text/plain": [
              "['/content/models/scaler.pkl']"
            ]
          },
          "metadata": {},
          "execution_count": 24
        }
      ]
    },
    {
      "cell_type": "code",
      "source": [
        "#\u00a05: Evaluate on Test Set\n",
        "\n",
        "y_pred = svm_model.predict(X_test_feat)\n",
        "print(classification_report(y_test, y_pred, target_names=CATEGORIES))\n",
        "cm = confusion_matrix(y_test, y_pred)\n",
        "plt.figure(figsize=(5,5))\n",
        "plt.imshow(cm, cmap='Blues')\n",
        "plt.title('Confusion Matrix')\n",
        "plt.xticks([0,1], CATEGORIES)\n",
        "plt.yticks([0,1], CATEGORIES)\n",
        "for i in range(2):\n",
        "    for j in range(2):\n",
        "        plt.text(j, i, cm[i,j], ha='center', va='center', color='white')\n",
        "plt.show()"
      ],
      "metadata": {
        "colab": {
          "base_uri": "https://localhost:8080/",
          "height": 624
        },
        "id": "cucoPYIYn5BO",
        "outputId": "66608dac-2403-4ceb-b866-828a44d6ba34"
      },
      "execution_count": null,
      "outputs": [
        {
          "output_type": "stream",
          "name": "stdout",
          "text": [
            "              precision    recall  f1-score   support\n",
            "\n",
            "        cats       0.73      0.73      0.73      2000\n",
            "        dogs       0.73      0.73      0.73      2000\n",
            "\n",
            "    accuracy                           0.73      4000\n",
            "   macro avg       0.73      0.73      0.73      4000\n",
            "weighted avg       0.73      0.73      0.73      4000\n",
            "\n"
          ]
        },
        {
          "output_type": "display_data",
          "data": {
            "text/plain": [
              "<Figure size 500x500 with 1 Axes>"
            ],
            "image/png": "[encoded data removed]"
          },
          "metadata": {}
        }
      ]
    },
    {
      "cell_type": "code",
      "source": [
        "#\u00a06: Reload for Widget\n",
        "svm    = joblib.load('/content/models/svm_cat_dog_calibrated.pkl')\n",
        "scaler = joblib.load('/content/models/scaler.pkl')"
      ],
      "metadata": {
        "id": "6SiH5Srqn8rH"
      },
      "execution_count": null,
      "outputs": []
    },
    {
      "cell_type": "code",
      "source": [
        "#\u00a07: FileUpload + Inline Prediction Widget\n",
        "upload = widgets.FileUpload(\n",
        "    accept='image/*', multiple=False,\n",
        "    description='Upload Cat/Dog Image'\n",
        ")\n",
        "out = widgets.Output()\n",
        "\n",
        "def on_upload_change(change):\n",
        "    out.clear_output()\n",
        "    if not upload.value:\n",
        "        return\n",
        "\n",
        "    # load & display\n",
        "    key     = next(iter(upload.value))\n",
        "    content = upload.value[key]['content']\n",
        "    img     = Image.open(io.BytesIO(content)).convert('RGB')\n",
        "    with out:\n",
        "        plt.figure(figsize=(3,3))\n",
        "        plt.imshow(img); plt.axis('off')\n",
        "\n",
        "    # preprocess \u2192 HOG features\n",
        "    gray = img.resize((IMG_SIZE,IMG_SIZE)).convert('L')\n",
        "    arr  = np.array(gray).flatten().reshape(1,-1)\n",
        "    arr_scaled = scaler.transform(arr)\n",
        "    feat = compute_hog(arr_scaled)\n",
        "\n",
        "    # predict with calibrated SVM\n",
        "    probs = svm.predict_proba(feat)[0]\n",
        "    idx   = np.argmax(probs)\n",
        "    cls   = CATEGORIES[idx].capitalize()\n",
        "    conf  = probs[idx] * 100\n",
        "\n",
        "    with out:\n",
        "        print(f\"Prediction: {cls} ({conf:.2f}% confidence)\")\n",
        "\n",
        "upload.observe(on_upload_change, names='value')\n",
        "display(widgets.VBox([upload, out]))"
      ],
      "metadata": {
        "colab": {
          "base_uri": "https://localhost:8080/",
          "height": 262,
          "referenced_widgets": [
            "1fe5f161357c46fdafd8cdb815f19620",
            "a1dc20eb0c7a467296ff2a0b45bab4b8",
            "4489e54b60d1425aad44c579591dbae0",
            "dd53aed3f02f475f811fd804836a1b88",
            "7b8c13f72c6648caad60654621616bbc",
            "e756d8f3e67d4e2cbe25dec934851b0a",
            "fbe122508b0040508ca80b6b333ef83c"
          ]
        },
        "id": "a1XLd-g6oAWe",
        "outputId": "7955cf01-1f7c-4d19-f497-fe99b248c2f5"
      },
      "execution_count": null,
      "outputs": [
        {
          "output_type": "display_data",
          "data": {
            "text/plain": [
              "VBox(children=(FileUpload(value={}, accept='image/*', description='Upload Cat/Dog Image'), Output()))"
            ],
            "application/vnd.jupyter.widget-view+json": {
              "version_major": 2,
              "version_minor": 0,
              "model_id": "1fe5f161357c46fdafd8cdb815f19620"
            }
          },
          "metadata": {}
        },
        {
          "output_type": "display_data",
          "data": {
            "text/plain": [
              "<Figure size 300x300 with 1 Axes>"
            ],
            "image/png": "[encoded data removed]"
          },
          "metadata": {}
        }
      ]
    },
    {
      "cell_type": "code",
      "source": [
        "# 8: Install & import Gradio, load your model, and launch the interface\n",
        "\n",
        "!pip install --quiet gradio\n",
        "\n",
        "import gradio as gr\n",
        "\n",
        "# (re)load your saved artifacts\n",
        "svm    = joblib.load('/content/models/svm_cat_dog_calibrated.pkl')\n",
        "scaler = joblib.load('/content/models/scaler.pkl')\n",
        "\n",
        "CATEGORIES = ['cats','dogs']\n",
        "IMG_SIZE   = 64\n",
        "\n",
        "def compute_hog(flat_images):\n",
        "    feats = []\n",
        "    for flat in flat_images:\n",
        "        img = flat.reshape(IMG_SIZE, IMG_SIZE)\n",
        "        feats.append(hog(img,\n",
        "                         pixels_per_cell=(8,8),\n",
        "                         cells_per_block=(2,2),\n",
        "                         feature_vector=True))\n",
        "    return np.array(feats)\n",
        "\n",
        "def predict_fn(input_img: Image.Image):\n",
        "    img = input_img.convert('RGB').resize((IMG_SIZE, IMG_SIZE))\n",
        "    gray = img.convert('L')\n",
        "    arr  = np.array(gray).flatten().reshape(1, -1)\n",
        "    arr_scaled = scaler.transform(arr)\n",
        "    feat       = compute_hog(arr_scaled)\n",
        "    probs      = svm.predict_proba(feat)[0]\n",
        "\n",
        "    top_idx = np.argmax(probs)\n",
        "    top_label = CATEGORIES[top_idx].capitalize()\n",
        "    confidence = probs[top_idx] * 100\n",
        "    label = f\"{top_label} ({confidence:.2f}%)\"\n",
        "\n",
        "    label_probs = {\n",
        "        CATEGORIES[0].capitalize(): round(probs[0] * 100, 2),\n",
        "        CATEGORIES[1].capitalize(): round(probs[1] * 100, 2)\n",
        "    }\n",
        "\n",
        "    return label, label_probs\n",
        "\n",
        "demo = gr.Interface(\n",
        "    fn=predict_fn,\n",
        "    inputs=gr.Image(type=\"pil\", label=\"Upload Cat or Dog\"),\n",
        "    outputs=[gr.Label(num_top_classes=2, label=\"Prediction\"),\n",
        "             gr.JSON(label=\"All Class Confidences\")],\n",
        "    title=\"Cats vs Dogs Classifier\",\n",
        "    description=\"Upload an image and see the model\u2019s prediction & confidence.\",\n",
        ")\n",
        "\n",
        "\n",
        "demo.launch(share=True)\n"
      ],
      "metadata": {
        "colab": {
          "base_uri": "https://localhost:8080/",
          "height": 611
        },
        "id": "nrEdRzImDw8t",
        "outputId": "5c85908a-0368-4f99-b544-e619fe96c071"
      },
      "execution_count": null,
      "outputs": [
        {
          "output_type": "stream",
          "name": "stdout",
          "text": [
            "Colab notebook detected. To show errors in colab notebook, set debug=True in launch()\n",
            "* Running on public URL: https://ae1415675f6bf0ff2b.gradio.live\n",
            "\n",
            "This share link expires in 1 week. For free permanent hosting and GPU upgrades, run `gradio deploy` from the terminal in the working directory to deploy to Hugging Face Spaces (https://huggingface.co/spaces)\n"
          ]
        },
        {
          "output_type": "display_data",
          "data": {
            "text/plain": [
              "<IPython.core.display.HTML object>"
            ],
            "text/html": [
              "<div><iframe src=\"https://ae1415675f6bf0ff2b.gradio.live\" width=\"100%\" height=\"500\" allow=\"autoplay; camera; microphone; clipboard-read; clipboard-write;\" frameborder=\"0\" allowfullscreen></iframe></div>"
            ]
          },
          "metadata": {}
        },
        {
          "output_type": "execute_result",
          "data": {
            "text/plain": []
          },
          "metadata": {},
          "execution_count": 30
        }
      ]
    }
  ]
}